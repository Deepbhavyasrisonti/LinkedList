{
 "cells": [
  {
   "cell_type": "code",
   "execution_count": null,
   "id": "18129359-006a-4147-9bdc-5672d25f00a9",
   "metadata": {},
   "outputs": [
    {
     "name": "stdout",
     "output_type": "stream",
     "text": [
      "\n",
      " LinkdList operations\n",
      "1.insert\n",
      "2.display\n",
      "3.search\n",
      "4.exit\n"
     ]
    },
    {
     "name": "stdin",
     "output_type": "stream",
     "text": [
      "enter your choice: 1\n",
      "enter a value to insert: 11\n"
     ]
    },
    {
     "name": "stdout",
     "output_type": "stream",
     "text": [
      "11inserted at end/will be first node....\n",
      "\n",
      " LinkdList operations\n",
      "1.insert\n",
      "2.display\n",
      "3.search\n",
      "4.exit\n"
     ]
    },
    {
     "name": "stdin",
     "output_type": "stream",
     "text": [
      "enter your choice: 1\n",
      "enter a value to insert: 22\n"
     ]
    },
    {
     "name": "stdout",
     "output_type": "stream",
     "text": [
      "\n",
      " LinkdList operations\n",
      "1.insert\n",
      "2.display\n",
      "3.search\n",
      "4.exit\n"
     ]
    },
    {
     "name": "stdin",
     "output_type": "stream",
     "text": [
      "enter your choice: 1\n",
      "enter a value to insert: 33\n"
     ]
    },
    {
     "name": "stdout",
     "output_type": "stream",
     "text": [
      "\n",
      " LinkdList operations\n",
      "1.insert\n",
      "2.display\n",
      "3.search\n",
      "4.exit\n"
     ]
    },
    {
     "name": "stdin",
     "output_type": "stream",
     "text": [
      "enter your choice: 1\n",
      "enter a value to insert: 44\n"
     ]
    },
    {
     "name": "stdout",
     "output_type": "stream",
     "text": [
      "\n",
      " LinkdList operations\n",
      "1.insert\n",
      "2.display\n",
      "3.search\n",
      "4.exit\n"
     ]
    },
    {
     "name": "stdin",
     "output_type": "stream",
     "text": [
      "enter your choice: 2\n"
     ]
    },
    {
     "name": "stdout",
     "output_type": "stream",
     "text": [
      "11----22----33----44----None\n",
      "\n",
      " LinkdList operations\n",
      "1.insert\n",
      "2.display\n",
      "3.search\n",
      "4.exit\n"
     ]
    },
    {
     "name": "stdin",
     "output_type": "stream",
     "text": [
      "enter your choice: 2\n"
     ]
    },
    {
     "name": "stdout",
     "output_type": "stream",
     "text": [
      "11----22----33----44----None\n",
      "\n",
      " LinkdList operations\n",
      "1.insert\n",
      "2.display\n",
      "3.search\n",
      "4.exit\n"
     ]
    },
    {
     "name": "stdin",
     "output_type": "stream",
     "text": [
      "enter your choice: 3\n",
      "enter the value,you want to search : 33\n"
     ]
    },
    {
     "name": "stdout",
     "output_type": "stream",
     "text": [
      "33 found in the LL\n",
      "\n",
      " LinkdList operations\n",
      "1.insert\n",
      "2.display\n",
      "3.search\n",
      "4.exit\n"
     ]
    }
   ],
   "source": [
    "class Node:\n",
    "    def __init__(self,data):\n",
    "        self.data=data\n",
    "        self.next=None\n",
    "class LinkedList:\n",
    "    def __init__(self):\n",
    "        self.head=None\n",
    "    def iae(self,data):\n",
    "        newnode=Node(data)\n",
    "        if self.head is None:\n",
    "            self.head=newnode\n",
    "            print(f\"{data}inserted at end/will be first node....\")\n",
    "            return\n",
    "        current=self.head\n",
    "        while current.next:\n",
    "            current=current.next\n",
    "        current.next=newnode\n",
    "    def search(self,key):\n",
    "        pos=1\n",
    "        current=self.head\n",
    "        while current:\n",
    "            if current.data==key:\n",
    "                print(f\"{key} found in the LL\")\n",
    "                return True\n",
    "            current=current.next\n",
    "            pos+=1\n",
    "        print(f\"{key} not found in ll\")\n",
    "        return False\n",
    "    def display(self):\n",
    "        current=self.head\n",
    "        if not current:\n",
    "            print(\"LL-- empty\")\n",
    "            return\n",
    "        while current:\n",
    "            print(current.data,end='----')\n",
    "            current=current.next\n",
    "        print(\"None\")\n",
    "ll=LinkedList()\n",
    "while True:\n",
    "    print(\"\\n LinkdList operations\")\n",
    "    print(\"1.insert\")\n",
    "    print(\"2.display\")\n",
    "    print(\"3.search\")\n",
    "    print(\"4.exit\")\n",
    "    choice=input(\"enter your choice:\")\n",
    "    if choice=='1':\n",
    "        data=int(input(\"enter a value to insert:\"))\n",
    "        ll.iae(data)\n",
    "    elif choice=='2':\n",
    "        ll.display()\n",
    "    elif choice=='3':\n",
    "        val=int(input(\"enter the value,you want to search :\"))\n",
    "        ll.search(val)\n",
    "    elif choice=='4':\n",
    "        print(\"exit the operation...\")\n",
    "        break\n",
    "    else:\n",
    "        print(\"enter only ----1/2/3/4\")\n",
    "    "
   ]
  },
  {
   "cell_type": "code",
   "execution_count": null,
   "id": "e3826da9-5bc4-4dd0-bd5b-a042b87d3774",
   "metadata": {},
   "outputs": [],
   "source": []
  }
 ],
 "metadata": {
  "kernelspec": {
   "display_name": "Python 3 (ipykernel)",
   "language": "python",
   "name": "python3"
  },
  "language_info": {
   "codemirror_mode": {
    "name": "ipython",
    "version": 3
   },
   "file_extension": ".py",
   "mimetype": "text/x-python",
   "name": "python",
   "nbconvert_exporter": "python",
   "pygments_lexer": "ipython3",
   "version": "3.12.7"
  }
 },
 "nbformat": 4,
 "nbformat_minor": 5
}
