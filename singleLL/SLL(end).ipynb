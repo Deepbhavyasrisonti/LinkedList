{
 "cells": [
  {
   "cell_type": "code",
   "execution_count": 1,
   "id": "b1699050-6b08-45f8-967f-7946d53a4741",
   "metadata": {},
   "outputs": [
    {
     "name": "stdout",
     "output_type": "stream",
     "text": [
      "\n",
      " LinkdList-Insert At Begin.....\n",
      "1.insert\n",
      "2.display\n",
      "3.exit\n"
     ]
    },
    {
     "name": "stdin",
     "output_type": "stream",
     "text": [
      "enter your choice: 1\n",
      "enter a value to insert: 11\n"
     ]
    },
    {
     "name": "stdout",
     "output_type": "stream",
     "text": [
      "11inserted at end/will be first node....\n",
      "\n",
      " LinkdList-Insert At Begin.....\n",
      "1.insert\n",
      "2.display\n",
      "3.exit\n"
     ]
    },
    {
     "name": "stdin",
     "output_type": "stream",
     "text": [
      "enter your choice: 1\n",
      "enter a value to insert: 12\n"
     ]
    },
    {
     "name": "stdout",
     "output_type": "stream",
     "text": [
      "12 inserted last\n",
      "\n",
      " LinkdList-Insert At Begin.....\n",
      "1.insert\n",
      "2.display\n",
      "3.exit\n"
     ]
    },
    {
     "name": "stdin",
     "output_type": "stream",
     "text": [
      "enter your choice: 1\n",
      "enter a value to insert: 13\n"
     ]
    },
    {
     "name": "stdout",
     "output_type": "stream",
     "text": [
      "13 inserted last\n",
      "\n",
      " LinkdList-Insert At Begin.....\n",
      "1.insert\n",
      "2.display\n",
      "3.exit\n"
     ]
    },
    {
     "name": "stdin",
     "output_type": "stream",
     "text": [
      "enter your choice: 1\n",
      "enter a value to insert: 14\n"
     ]
    },
    {
     "name": "stdout",
     "output_type": "stream",
     "text": [
      "14 inserted last\n",
      "\n",
      " LinkdList-Insert At Begin.....\n",
      "1.insert\n",
      "2.display\n",
      "3.exit\n"
     ]
    },
    {
     "name": "stdin",
     "output_type": "stream",
     "text": [
      "enter your choice: 1\n",
      "enter a value to insert: 15\n"
     ]
    },
    {
     "name": "stdout",
     "output_type": "stream",
     "text": [
      "15 inserted last\n",
      "\n",
      " LinkdList-Insert At Begin.....\n",
      "1.insert\n",
      "2.display\n",
      "3.exit\n"
     ]
    },
    {
     "name": "stdin",
     "output_type": "stream",
     "text": [
      "enter your choice: 2\n"
     ]
    },
    {
     "name": "stdout",
     "output_type": "stream",
     "text": [
      "11----12----13----14----15----None\n",
      "\n",
      " LinkdList-Insert At Begin.....\n",
      "1.insert\n",
      "2.display\n",
      "3.exit\n"
     ]
    },
    {
     "name": "stdin",
     "output_type": "stream",
     "text": [
      "enter your choice: 3\n"
     ]
    },
    {
     "name": "stdout",
     "output_type": "stream",
     "text": [
      "exit the operation.....\n"
     ]
    }
   ],
   "source": [
    "class Node:\n",
    "    def __init__(self,data):\n",
    "        self.data=data\n",
    "        self.next=None\n",
    "class LinkedList:\n",
    "    def __init__(self):\n",
    "        self.head=None\n",
    "    def iae(self,data):\n",
    "        newnode=Node(data)\n",
    "        if self.head is None:\n",
    "            self.head=newnode\n",
    "            print(f\"{data}inserted at end/will be first node....\")\n",
    "            return\n",
    "        current=self.head\n",
    "        while current.next:\n",
    "            current=current.next\n",
    "        current.next=newnode\n",
    "        print(f\"{data} inserted last\")\n",
    "    def display(self):\n",
    "        current=self.head\n",
    "        if not current:\n",
    "            print(\"LL-- empty\")\n",
    "            return\n",
    "        while current:\n",
    "            print(current.data,end='----')\n",
    "            current=current.next\n",
    "        print(\"None\")\n",
    "ll=LinkedList()\n",
    "while True:\n",
    "    print(\"\\n LinkdList-Insert At Begin.....\")\n",
    "    print(\"1.insert\")\n",
    "    print(\"2.display\")\n",
    "    print(\"3.exit\")\n",
    "    choice=input(\"enter your choice:\")\n",
    "    if choice=='1':\n",
    "        data=int(input(\"enter a value to insert:\"))\n",
    "        ll.iae(data)\n",
    "    elif choice=='2':\n",
    "        ll.display()\n",
    "    elif choice=='3':\n",
    "        print(\"exit the operation.....\")\n",
    "        break\n",
    "    else:\n",
    "        print(\"enter only ----1/2/\")\n",
    "    "
   ]
  },
  {
   "cell_type": "code",
   "execution_count": null,
   "id": "a94abdc0-8356-4c9d-8e71-bc46cbf62120",
   "metadata": {},
   "outputs": [],
   "source": []
  }
 ],
 "metadata": {
  "kernelspec": {
   "display_name": "Python 3 (ipykernel)",
   "language": "python",
   "name": "python3"
  },
  "language_info": {
   "codemirror_mode": {
    "name": "ipython",
    "version": 3
   },
   "file_extension": ".py",
   "mimetype": "text/x-python",
   "name": "python",
   "nbconvert_exporter": "python",
   "pygments_lexer": "ipython3",
   "version": "3.12.7"
  }
 },
 "nbformat": 4,
 "nbformat_minor": 5
}
