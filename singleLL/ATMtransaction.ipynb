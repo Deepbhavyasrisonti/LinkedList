{
 "cells": [
  {
   "cell_type": "code",
   "execution_count": 7,
   "id": "944d1e52-b381-44a6-91be-2e1183f0aedc",
   "metadata": {},
   "outputs": [
    {
     "name": "stdout",
     "output_type": "stream",
     "text": [
      "\n",
      "-----------ATM Transaction menu\n",
      "1.Deposit\n",
      "2.withdraw\n",
      "3.History\n",
      "4.Exit\n"
     ]
    },
    {
     "name": "stdin",
     "output_type": "stream",
     "text": [
      "enter your choice: 1\n",
      "enter amount to deposit: 1000\n"
     ]
    },
    {
     "name": "stdout",
     "output_type": "stream",
     "text": [
      "deposit of ₹.1000.0 recorded....\n",
      "\n",
      "-----------ATM Transaction menu\n",
      "1.Deposit\n",
      "2.withdraw\n",
      "3.History\n",
      "4.Exit\n"
     ]
    },
    {
     "name": "stdin",
     "output_type": "stream",
     "text": [
      "enter your choice: 1\n",
      "enter amount to deposit: 350000\n"
     ]
    },
    {
     "name": "stdout",
     "output_type": "stream",
     "text": [
      "deposit of ₹.350000.0 recorded....\n",
      "\n",
      "-----------ATM Transaction menu\n",
      "1.Deposit\n",
      "2.withdraw\n",
      "3.History\n",
      "4.Exit\n"
     ]
    },
    {
     "name": "stdin",
     "output_type": "stream",
     "text": [
      "enter your choice: 2\n",
      "enter amount to withdraw: 80000\n"
     ]
    },
    {
     "name": "stdout",
     "output_type": "stream",
     "text": [
      "withdraw of ₹.80000.0 recorded....\n",
      "\n",
      "-----------ATM Transaction menu\n",
      "1.Deposit\n",
      "2.withdraw\n",
      "3.History\n",
      "4.Exit\n"
     ]
    },
    {
     "name": "stdin",
     "output_type": "stream",
     "text": [
      "enter your choice: 3\n"
     ]
    },
    {
     "name": "stdout",
     "output_type": "stream",
     "text": [
      "\n",
      " Transaction History\n",
      "1 deposit-₹1000.0\n",
      "2 deposit-₹350000.0\n",
      "3 withdraw-₹80000.0\n",
      "\n",
      "-----------ATM Transaction menu\n",
      "1.Deposit\n",
      "2.withdraw\n",
      "3.History\n",
      "4.Exit\n"
     ]
    },
    {
     "name": "stdin",
     "output_type": "stream",
     "text": [
      "enter your choice: 4\n"
     ]
    },
    {
     "name": "stdout",
     "output_type": "stream",
     "text": [
      "transaction exit.....\n"
     ]
    }
   ],
   "source": [
    "class Transaction:\n",
    "    def __init__(self,transaction_type,amount):\n",
    "        self.type=transaction_type\n",
    "        self.amount=amount\n",
    "        self.next=None\n",
    "class TransactionHistory:\n",
    "    def __init__(self):\n",
    "        self.head=None\n",
    "    def add_transaction(self,transaction_type,amount):\n",
    "        nn=Transaction(transaction_type,amount)\n",
    "        if not self.head:\n",
    "            self.head=nn\n",
    "        else:\n",
    "            current=self.head\n",
    "            while current.next:\n",
    "                current=current.next\n",
    "            current.next=nn\n",
    "        print(f\"{transaction_type} of ₹.{amount} recorded....\")\n",
    "    def show_history(self):\n",
    "        if not self.head:\n",
    "            print(\"No Transaction found....\")\n",
    "            return\n",
    "        print(\"\\n Transaction History\")\n",
    "        current=self.head\n",
    "        count=1\n",
    "        while current:\n",
    "            print(f\"{count} {current.type}-₹{current.amount}\")\n",
    "            current=current.next\n",
    "            count+=1\n",
    "history=TransactionHistory()\n",
    "while True:\n",
    "    print(\"\\n-----------ATM Transaction menu\")\n",
    "    print(\"1.Deposit\")\n",
    "    print(\"2.withdraw\")\n",
    "    print(\"3.History\")\n",
    "    print(\"4.Exit\")\n",
    "    choice=input(\"enter your choice:\")\n",
    "    if choice=='1':\n",
    "        amount=float(input(\"enter amount to deposit:\"))\n",
    "        history.add_transaction(\"deposit\",amount)\n",
    "    elif choice=='2':\n",
    "        amount=float(input(\"enter amount to withdraw:\"))\n",
    "        history.add_transaction(\"withdraw\",amount)\n",
    "    elif choice=='3':\n",
    "        history.show_history()\n",
    "    elif choice=='4':\n",
    "        print(\"transaction exit.....\")\n",
    "        break\n",
    "    else:\n",
    "        print(\"choose 1/2/3/4 only!!!!!\")"
   ]
  },
  {
   "cell_type": "code",
   "execution_count": null,
   "id": "79d771ee-12dd-48ed-98b1-cabfd725b2d8",
   "metadata": {},
   "outputs": [],
   "source": []
  }
 ],
 "metadata": {
  "kernelspec": {
   "display_name": "Python 3 (ipykernel)",
   "language": "python",
   "name": "python3"
  },
  "language_info": {
   "codemirror_mode": {
    "name": "ipython",
    "version": 3
   },
   "file_extension": ".py",
   "mimetype": "text/x-python",
   "name": "python",
   "nbconvert_exporter": "python",
   "pygments_lexer": "ipython3",
   "version": "3.12.7"
  }
 },
 "nbformat": 4,
 "nbformat_minor": 5
}
