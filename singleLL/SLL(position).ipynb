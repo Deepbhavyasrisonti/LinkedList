{
 "cells": [
  {
   "cell_type": "code",
   "execution_count": 24,
   "id": "a2473af2-2f98-40fe-8dbf-d57fc900a966",
   "metadata": {},
   "outputs": [
    {
     "name": "stdout",
     "output_type": "stream",
     "text": [
      "\n",
      " LinkdList-Insert At Begin.....\n",
      "1.insert\n",
      "2.display\n",
      "3.exit\n"
     ]
    },
    {
     "name": "stdin",
     "output_type": "stream",
     "text": [
      "enter your choice: 1\n",
      "enter a value to insert: 10\n",
      "enter position starting position 1: 1\n"
     ]
    },
    {
     "name": "stdout",
     "output_type": "stream",
     "text": [
      "10 insertion at pos-1\n",
      "\n",
      " LinkdList-Insert At Begin.....\n",
      "1.insert\n",
      "2.display\n",
      "3.exit\n"
     ]
    },
    {
     "name": "stdin",
     "output_type": "stream",
     "text": [
      "enter your choice: 1\n",
      "enter a value to insert: 20\n",
      "enter position starting position 1: 2\n"
     ]
    },
    {
     "name": "stdout",
     "output_type": "stream",
     "text": [
      "20 inserted at position 2\n",
      "\n",
      " LinkdList-Insert At Begin.....\n",
      "1.insert\n",
      "2.display\n",
      "3.exit\n"
     ]
    },
    {
     "name": "stdin",
     "output_type": "stream",
     "text": [
      "enter your choice: 1\n",
      "enter a value to insert: 30\n",
      "enter position starting position 1: 2\n"
     ]
    },
    {
     "name": "stdout",
     "output_type": "stream",
     "text": [
      "30 inserted at position 2\n",
      "\n",
      " LinkdList-Insert At Begin.....\n",
      "1.insert\n",
      "2.display\n",
      "3.exit\n"
     ]
    },
    {
     "name": "stdin",
     "output_type": "stream",
     "text": [
      "enter your choice: 2\n"
     ]
    },
    {
     "name": "stdout",
     "output_type": "stream",
     "text": [
      "10----30----20----None\n",
      "\n",
      " LinkdList-Insert At Begin.....\n",
      "1.insert\n",
      "2.display\n",
      "3.exit\n"
     ]
    },
    {
     "name": "stdin",
     "output_type": "stream",
     "text": [
      "enter your choice: 3\n"
     ]
    },
    {
     "name": "stdout",
     "output_type": "stream",
     "text": [
      "exit the operation.....\n"
     ]
    }
   ],
   "source": [
    "class Node:\n",
    "    def __init__(self,data):\n",
    "        self.data=data\n",
    "        self.next=None\n",
    "class LinkedList:\n",
    "    def __init__(self):\n",
    "        self.head=None\n",
    "    def iap(self ,data ,pos):\n",
    "        newnode=Node(data)\n",
    "        if pos<=0:\n",
    "            print(\"position min>=1\")\n",
    "            return\n",
    "        if pos==1:\n",
    "            newnode.next==self.head\n",
    "            self.head=newnode\n",
    "            print(f\"{data} insertion at pos-1\")\n",
    "            return\n",
    "        current=self.head\n",
    "        c=1\n",
    "        while current and c < pos-1:\n",
    "            current=current.next\n",
    "            c+=1\n",
    "        if not current:\n",
    "            print(\"not in range...\")\n",
    "            return\n",
    "        newnode.next=current.next\n",
    "        current.next=newnode\n",
    "        print(f\"{data} inserted at position {pos}\")\n",
    "    def display(self):\n",
    "        current=self.head\n",
    "        if not current:\n",
    "            print(\"LL-- empty\")\n",
    "            return\n",
    "        while current:\n",
    "            print(current.data,end='----')\n",
    "            current=current.next\n",
    "        print(\"None\")\n",
    "ll=LinkedList()\n",
    "while True:\n",
    "    print(\"\\n LinkdList-Insert At Begin.....\")\n",
    "    print(\"1.insert\")\n",
    "    print(\"2.display\")\n",
    "    print(\"3.exit\")\n",
    "    choice=input(\"enter your choice:\")\n",
    "    if choice=='1':\n",
    "        data=int(input(\"enter a value to insert:\"))\n",
    "        pos=int(input(\"enter position starting position 1:\"))\n",
    "        ll.iap(data,pos)\n",
    "    elif choice=='2':\n",
    "        ll.display()\n",
    "    elif choice=='3':\n",
    "        print(\"exit the operation.....\")\n",
    "        break\n",
    "    else:\n",
    "        print(\"enter only ----1/2/\")\n",
    "    "
   ]
  },
  {
   "cell_type": "code",
   "execution_count": null,
   "id": "50aa2567-e678-453b-adda-d5a31b11c4d7",
   "metadata": {},
   "outputs": [],
   "source": []
  }
 ],
 "metadata": {
  "kernelspec": {
   "display_name": "Python 3 (ipykernel)",
   "language": "python",
   "name": "python3"
  },
  "language_info": {
   "codemirror_mode": {
    "name": "ipython",
    "version": 3
   },
   "file_extension": ".py",
   "mimetype": "text/x-python",
   "name": "python",
   "nbconvert_exporter": "python",
   "pygments_lexer": "ipython3",
   "version": "3.12.7"
  }
 },
 "nbformat": 4,
 "nbformat_minor": 5
}
