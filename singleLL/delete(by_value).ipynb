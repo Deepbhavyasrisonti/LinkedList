{
 "cells": [
  {
   "cell_type": "code",
   "execution_count": 11,
   "id": "6c4907a0-01f4-47f1-beb6-18f9b3a9951a",
   "metadata": {},
   "outputs": [
    {
     "name": "stdout",
     "output_type": "stream",
     "text": [
      "\n",
      " LinkedList operations\n",
      "1.insert\n",
      "2.display\n",
      "3.delete by value\n",
      "4.exit\n"
     ]
    },
    {
     "name": "stdin",
     "output_type": "stream",
     "text": [
      "enter your choice: 1\n",
      "enter a value to insert: 10\n"
     ]
    },
    {
     "name": "stdout",
     "output_type": "stream",
     "text": [
      "10inserted at end/will be first node....\n",
      "\n",
      " LinkedList operations\n",
      "1.insert\n",
      "2.display\n",
      "3.delete by value\n",
      "4.exit\n"
     ]
    },
    {
     "name": "stdin",
     "output_type": "stream",
     "text": [
      "enter your choice: 1\n",
      "enter a value to insert: 20\n"
     ]
    },
    {
     "name": "stdout",
     "output_type": "stream",
     "text": [
      "\n",
      " LinkedList operations\n",
      "1.insert\n",
      "2.display\n",
      "3.delete by value\n",
      "4.exit\n"
     ]
    },
    {
     "name": "stdin",
     "output_type": "stream",
     "text": [
      "enter your choice: 1\n",
      "enter a value to insert: 30\n"
     ]
    },
    {
     "name": "stdout",
     "output_type": "stream",
     "text": [
      "\n",
      " LinkedList operations\n",
      "1.insert\n",
      "2.display\n",
      "3.delete by value\n",
      "4.exit\n"
     ]
    },
    {
     "name": "stdin",
     "output_type": "stream",
     "text": [
      "enter your choice: 1\n",
      "enter a value to insert: 40\n"
     ]
    },
    {
     "name": "stdout",
     "output_type": "stream",
     "text": [
      "\n",
      " LinkedList operations\n",
      "1.insert\n",
      "2.display\n",
      "3.delete by value\n",
      "4.exit\n"
     ]
    },
    {
     "name": "stdin",
     "output_type": "stream",
     "text": [
      "enter your choice: 1\n",
      "enter a value to insert: 50\n"
     ]
    },
    {
     "name": "stdout",
     "output_type": "stream",
     "text": [
      "\n",
      " LinkedList operations\n",
      "1.insert\n",
      "2.display\n",
      "3.delete by value\n",
      "4.exit\n"
     ]
    },
    {
     "name": "stdin",
     "output_type": "stream",
     "text": [
      "enter your choice: 2\n"
     ]
    },
    {
     "name": "stdout",
     "output_type": "stream",
     "text": [
      "10----20----30----40----50----None\n",
      "\n",
      " LinkedList operations\n",
      "1.insert\n",
      "2.display\n",
      "3.delete by value\n",
      "4.exit\n"
     ]
    },
    {
     "name": "stdin",
     "output_type": "stream",
     "text": [
      "enter your choice: 3\n",
      "enter the value,you want to delete : 30\n"
     ]
    },
    {
     "name": "stdout",
     "output_type": "stream",
     "text": [
      "30 deleted from the ll\n",
      "\n",
      " LinkedList operations\n",
      "1.insert\n",
      "2.display\n",
      "3.delete by value\n",
      "4.exit\n"
     ]
    },
    {
     "name": "stdin",
     "output_type": "stream",
     "text": [
      "enter your choice: 2\n"
     ]
    },
    {
     "name": "stdout",
     "output_type": "stream",
     "text": [
      "10----20----40----50----None\n",
      "\n",
      " LinkedList operations\n",
      "1.insert\n",
      "2.display\n",
      "3.delete by value\n",
      "4.exit\n"
     ]
    },
    {
     "name": "stdin",
     "output_type": "stream",
     "text": [
      "enter your choice: 3\n",
      "enter the value,you want to delete : 10\n"
     ]
    },
    {
     "name": "stdout",
     "output_type": "stream",
     "text": [
      "10 deleted from the ll\n",
      "\n",
      " LinkedList operations\n",
      "1.insert\n",
      "2.display\n",
      "3.delete by value\n",
      "4.exit\n"
     ]
    },
    {
     "name": "stdin",
     "output_type": "stream",
     "text": [
      "enter your choice: 2\n"
     ]
    },
    {
     "name": "stdout",
     "output_type": "stream",
     "text": [
      "20----40----50----None\n",
      "\n",
      " LinkedList operations\n",
      "1.insert\n",
      "2.display\n",
      "3.delete by value\n",
      "4.exit\n"
     ]
    },
    {
     "name": "stdin",
     "output_type": "stream",
     "text": [
      "enter your choice: 4\n"
     ]
    },
    {
     "name": "stdout",
     "output_type": "stream",
     "text": [
      "exit the operation...\n"
     ]
    }
   ],
   "source": [
    "class Node:\n",
    "    def __init__(self,data):\n",
    "        self.data=data\n",
    "        self.next=None\n",
    "class LinkedList:\n",
    "    def __init__(self):\n",
    "        self.head=None\n",
    "    def iae(self,data):\n",
    "        newnode=Node(data)\n",
    "        if self.head is None:\n",
    "            self.head=newnode\n",
    "            print(f\"{data}inserted at end/will be first node....\")\n",
    "            return\n",
    "        current=self.head\n",
    "        while current.next:\n",
    "            current=current.next\n",
    "        current.next=newnode\n",
    "    def deletevalue(self,key):\n",
    "        current=self.head\n",
    "        if not current:\n",
    "            print(\"empty---LL\")\n",
    "            return\n",
    "        if current.data==key:\n",
    "            self.head=current.next\n",
    "            print(f\"{key} deleted from the ll\")\n",
    "            return\n",
    "        prev=None\n",
    "        while current and current.data!=key:\n",
    "            prev=current\n",
    "            current=current.next\n",
    "        if not current:\n",
    "            print(f\"{key} not found in the ll\")\n",
    "            return\n",
    "        prev.next=current.next\n",
    "        print(f\"{key} deleted from the ll\")\n",
    "    def display(self):\n",
    "        current=self.head\n",
    "        if not current:\n",
    "            print(\"LL-- empty\")\n",
    "            return\n",
    "        while current:\n",
    "            print(current.data,end='----')\n",
    "            current=current.next\n",
    "        print(\"None\")\n",
    "ll=LinkedList()\n",
    "while True:\n",
    "    print(\"\\n LinkedList operations\")\n",
    "    print(\"1.insert\")\n",
    "    print(\"2.display\")\n",
    "    print(\"3.delete by value\")\n",
    "    print(\"4.exit\")\n",
    "    choice=input(\"enter your choice:\")\n",
    "    if choice=='1':\n",
    "        data=int(input(\"enter a value to insert:\"))\n",
    "        ll.iae(data)\n",
    "    elif choice=='2':\n",
    "        ll.display()\n",
    "    elif choice=='3':\n",
    "        key=int(input(\"enter the value,you want to delete :\"))\n",
    "        ll.deletevalue(key)\n",
    "    elif choice=='4':\n",
    "        print(\"exit the operation...\")\n",
    "        break\n",
    "    else:\n",
    "        print(\"enter only ----1/2/3/4\")\n",
    "    "
   ]
  },
  {
   "cell_type": "code",
   "execution_count": null,
   "id": "6912ab20-3cac-4646-b699-c46e5c56ccd1",
   "metadata": {},
   "outputs": [],
   "source": []
  }
 ],
 "metadata": {
  "kernelspec": {
   "display_name": "Python 3 (ipykernel)",
   "language": "python",
   "name": "python3"
  },
  "language_info": {
   "codemirror_mode": {
    "name": "ipython",
    "version": 3
   },
   "file_extension": ".py",
   "mimetype": "text/x-python",
   "name": "python",
   "nbconvert_exporter": "python",
   "pygments_lexer": "ipython3",
   "version": "3.12.7"
  }
 },
 "nbformat": 4,
 "nbformat_minor": 5
}
